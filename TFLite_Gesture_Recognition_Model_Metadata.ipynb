{
  "nbformat": 4,
  "nbformat_minor": 0,
  "metadata": {
    "colab": {
      "provenance": []
    },
    "kernelspec": {
      "name": "python3",
      "display_name": "Python 3"
    },
    "language_info": {
      "name": "python"
    }
  },
  "cells": [
    {
      "cell_type": "code",
      "execution_count": 8,
      "metadata": {
        "colab": {
          "base_uri": "https://localhost:8080/"
        },
        "id": "vwjFeCsG5ho2",
        "outputId": "ca93553c-89d2-493f-923d-7d6b989cfb2c"
      },
      "outputs": [
        {
          "output_type": "stream",
          "name": "stdout",
          "text": [
            "fatal: destination path 'gesture_recognition' already exists and is not an empty directory.\n"
          ]
        }
      ],
      "source": [
        "!git clone https://github.com/usefulsensors/gesture_recognition.git"
      ]
    },
    {
      "cell_type": "code",
      "source": [
        "!pip install -q numpy opencv-python matplotlib tensorflow"
      ],
      "metadata": {
        "id": "xgRSQovH5t-V"
      },
      "execution_count": 9,
      "outputs": []
    },
    {
      "cell_type": "code",
      "source": [
        "import cv2\n",
        "import csv\n",
        "import glob\n",
        "import numpy as np\n",
        "import tensorflow as tf"
      ],
      "metadata": {
        "id": "ZsG7FpT16FOk"
      },
      "execution_count": 10,
      "outputs": []
    },
    {
      "cell_type": "code",
      "source": [
        "file = \"/content/gesture_recognition/hello.png\"\n",
        "interpreter = tf.lite.Interpreter(model_path=\"/content/gesture_recognition/model_metadata.tflite\")\n",
        "interpreter.allocate_tensors()\n",
        "input_details = interpreter.get_input_details()\n",
        "output_details = interpreter.get_output_details()\n",
        "image = cv2.imread(file)\n",
        "image = cv2.resize(image, (224, 224))\n",
        "image = cv2.flip(image, 1)\n",
        "print(image.shape)\n",
        "# Convert the BGR image to RGB before processing.\n",
        "img = cv2.cvtColor(image, cv2.COLOR_BGR2RGB)\n",
        "img = np.expand_dims(img, axis = 0)/255.0\n",
        "img = np.asarray(img, dtype = np.float32)\n",
        "interpreter.set_tensor(input_details[0]['index'], img)\n",
        "interpreter.invoke()\n",
        "\n",
        "result = interpreter.get_tensor(output_details[0]['index'])\n",
        "print(result)"
      ],
      "metadata": {
        "colab": {
          "base_uri": "https://localhost:8080/"
        },
        "id": "6GAFXjYL6Jfy",
        "outputId": "6868bdb8-02ce-4a50-8868-ae9b8a778c36"
      },
      "execution_count": 11,
      "outputs": [
        {
          "output_type": "stream",
          "name": "stdout",
          "text": [
            "(224, 224, 3)\n",
            "[[0.00574603 0.30831063 0.00298135 0.18233642 0.01308415 0.07903594\n",
            "  0.01414403 0.39436147]]\n"
          ]
        }
      ]
    }
  ]
}